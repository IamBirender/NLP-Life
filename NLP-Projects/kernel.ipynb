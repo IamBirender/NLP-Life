{
 "cells": [
  {
   "cell_type": "markdown",
   "metadata": {
    "_cell_guid": "cbcbe8b3-e787-4baa-9cd8-bc6ceb83a939",
    "_uuid": "d27c2f8b9eacacc634e97b9b45eb5bd8e27da2da"
   },
   "source": [
    "This kernal aims to explore Yelp reviews dataset and make actionable insights. It basically tries to answer following questions:\n",
    "\n",
    "1. Which businesses are getting top reviews?\n",
    "1. Which categories of business are getting top reviews?\n",
    "1. How businesses are getting reviewed over time.\n",
    "1. Are the categories of tending businesses different from top reviewed businesses? \n",
    "1. Which categories of businesses are new?\n",
    "1. Which categories of businesses are getting bad reviews?\n",
    "1. What are most common words in bad reviews?\n",
    "1. Are reviews influenced by user's friends?\n",
    "\n",
    "\n",
    "Terminology used:\n",
    "1. __Top reviewed business__ : Business with most numbers of positive reviews\n",
    "1. __Negatively reviewed business__ : Business with most numbers of negative reviews\n",
    "1. __Trending business__ : Business with most number of reviews, with more than 4 stars in recent years\n",
    "1. __Positive review__ : Review with more than 3 stars\n",
    "1. __Negative review__ : Review with just 1 star"
   ]
  },
  {
   "cell_type": "markdown",
   "metadata": {
    "_cell_guid": "c4084023-53f2-4a99-b157-d7de626ba4fd",
    "_uuid": "d7e32620066e03b7899e755ac91e23b25ef12656"
   },
   "source": [
    "Lets import required packages and load data"
   ]
  },
  {
   "cell_type": "code",
   "execution_count": 1,
   "metadata": {
    "_cell_guid": "f3016884-498a-4f37-a75b-13d400cc43ec",
    "_uuid": "c23620ae2b266782a7e867a70a63d454929d3d0f",
    "collapsed": false
   },
   "outputs": [
    {
     "ename": "ImportError",
     "evalue": "No module named basemap",
     "output_type": "error",
     "traceback": [
      "\u001b[0;31m--------------------------------------------------------------------------\u001b[0m",
      "\u001b[0;31mImportError\u001b[0m                              Traceback (most recent call last)",
      "\u001b[0;32m<ipython-input-1-4db6c1b71403>\u001b[0m in \u001b[0;36m<module>\u001b[0;34m()\u001b[0m\n\u001b[1;32m     16\u001b[0m \u001b[1;32mfrom\u001b[0m \u001b[0mnltk\u001b[0m\u001b[1;33m.\u001b[0m\u001b[0mcorpus\u001b[0m \u001b[1;32mimport\u001b[0m \u001b[0mstopwords\u001b[0m\u001b[1;33m\u001b[0m\u001b[0m\n\u001b[1;32m     17\u001b[0m \u001b[1;32mfrom\u001b[0m \u001b[0mwordcloud\u001b[0m \u001b[1;32mimport\u001b[0m \u001b[0mWordCloud\u001b[0m\u001b[1;33m\u001b[0m\u001b[0m\n\u001b[0;32m---> 18\u001b[0;31m \u001b[1;32mfrom\u001b[0m \u001b[0mmpl_toolkits\u001b[0m\u001b[1;33m.\u001b[0m\u001b[0mbasemap\u001b[0m \u001b[1;32mimport\u001b[0m \u001b[0mBasemap\u001b[0m\u001b[1;33m\u001b[0m\u001b[0m\n\u001b[0m\u001b[1;32m     19\u001b[0m \u001b[1;33m\u001b[0m\u001b[0m\n\u001b[1;32m     20\u001b[0m \u001b[1;32mfrom\u001b[0m \u001b[0msubprocess\u001b[0m \u001b[1;32mimport\u001b[0m \u001b[0mcheck_output\u001b[0m\u001b[1;33m\u001b[0m\u001b[0m\n",
      "\u001b[0;31mImportError\u001b[0m: No module named basemap"
     ]
    }
   ],
   "source": [
    "# This Python 3 environment comes with many helpful analytics libraries installed\n",
    "# It is defined by the kaggle/python docker image: https://github.com/kaggle/docker-python\n",
    "# For example, here's several helpful packages to load in \n",
    "\n",
    "import numpy as np # linear algebra\n",
    "import pandas as pd # data processing, CSV file I/O (e.g. pd.read_csv)\n",
    "\n",
    "# Input data files are available in the \"../input/\" directory.\n",
    "# For example, running this (by clicking run or pressing Shift+Enter) will list the files in the input directory\n",
    "import matplotlib.pyplot as plt\n",
    "\n",
    "import collections\n",
    "import re, string\n",
    "import sys\n",
    "import time\n",
    "from nltk.corpus import stopwords\n",
    "from wordcloud import WordCloud\n",
    "from mpl_toolkits.basemap import Basemap\n",
    "\n",
    "from subprocess import check_output\n",
    "%matplotlib inline"
   ]
  },
  {
   "cell_type": "code",
   "execution_count": null,
   "metadata": {
    "_cell_guid": "037c5545-aac9-4624-9230-26a3f21b3282",
    "_uuid": "edba9042dbe1407e46e3cf661602f041b30e8632",
    "collapsed": true
   },
   "outputs": [],
   "source": [
    "yelp_tips = pd.read_csv(\"../input/yelp_tip.csv\")\n",
    "yelp_review=pd.read_csv(\"../input/yelp_review.csv\")\n",
    "yelp_business= pd.read_csv(\"../input/yelp_business.csv\")\n",
    "yelp_review[\"date\"]=  pd.to_datetime(yelp_review[\"date\"], format='%Y-%m-%d')\n",
    "yelp_review['year'] = yelp_review.date.dt.year"
   ]
  },
  {
   "cell_type": "code",
   "execution_count": null,
   "metadata": {
    "_cell_guid": "e3986e55-af2b-4552-a969-69a9243f058d",
    "_uuid": "1de29c21c77e01d0625879cfc623848ec0789ae9",
    "collapsed": true
   },
   "outputs": [],
   "source": [
    "yelp_users = pd.read_csv(\"../input/yelp_user.csv\")"
   ]
  },
  {
   "cell_type": "markdown",
   "metadata": {
    "_cell_guid": "c4183759-b74b-4eb1-8f20-b0708f794e6a",
    "_uuid": "add2f1691ca1f243ee4dfdd4ed0378b85ad5040a"
   },
   "source": [
    "Lets see how data looks like"
   ]
  },
  {
   "cell_type": "code",
   "execution_count": null,
   "metadata": {
    "_cell_guid": "045105ec-def9-44f5-b086-3c17a1ee1349",
    "_uuid": "3a6f89d317b883f56cd0d4237398c7a4c868c6c2",
    "collapsed": true
   },
   "outputs": [],
   "source": [
    "yelp_review.head()"
   ]
  },
  {
   "cell_type": "code",
   "execution_count": null,
   "metadata": {
    "_cell_guid": "79a2cfdc-105c-4323-a58d-232fa687f80a",
    "_uuid": "fc4c9f6a460012d89e09702a09597793e51edd4a",
    "collapsed": true,
    "scrolled": true
   },
   "outputs": [],
   "source": [
    "yelp_business.head()"
   ]
  },
  {
   "cell_type": "code",
   "execution_count": null,
   "metadata": {
    "_cell_guid": "a5e8f901-00f9-4fbc-aa7d-7bf14df08e5e",
    "_uuid": "2ab3f9902edad4fc2a7299ca2e8b823410b9784d",
    "collapsed": true
   },
   "outputs": [],
   "source": [
    "yelp_users.head()"
   ]
  },
  {
   "cell_type": "markdown",
   "metadata": {
    "_cell_guid": "5fa5cf1d-37a2-424c-ad53-0bbbeabdc63a",
    "_uuid": "1b27db1c30c2b6e26340c39081136fd5ee34413e"
   },
   "source": [
    "Lets get the overview of reviews."
   ]
  },
  {
   "cell_type": "code",
   "execution_count": null,
   "metadata": {
    "_cell_guid": "338e4031-9a24-4271-b091-7d98962cd5e4",
    "_uuid": "b12f7d329d042e9d5a04b936b798b22972c6dd11",
    "collapsed": true
   },
   "outputs": [],
   "source": [
    "useful_reviews = len(yelp_review[yelp_review[\"useful\"]>0])\n",
    "cool_reviews = len(yelp_review[yelp_review[\"cool\"]>0])\n",
    "funny_reviews = len(yelp_review[yelp_review[\"funny\"]>0])\n",
    "negative_reviws = len(yelp_review[yelp_review[\"stars\"]<2])\n",
    "positive_reviews =len(yelp_review[yelp_review[\"stars\"]>3])\n",
    "total_reviews = len(yelp_review)\n",
    "\n",
    "print(\"Total reviews: {}\".format(total_reviews))\n",
    "print(\"Useful reviews: {}\".format(useful_reviews))\n",
    "print(\"Funny reviews: {}\".format(funny_reviews))\n",
    "print(\"Cool reviews: {}\".format(cool_reviews))\n",
    "print(\"Total negative reviews: {}\".format(negative_reviws))\n",
    "print(\"Total positive reviews: {}\".format(positive_reviews))\n"
   ]
  },
  {
   "cell_type": "markdown",
   "metadata": {
    "_cell_guid": "32dabf50-0a2a-4d3b-9d39-83c4e29fd679",
    "_uuid": "b7afcb556072d1ec1392b7e9a1b60825cc567041"
   },
   "source": [
    "# Top reviewed business"
   ]
  },
  {
   "cell_type": "code",
   "execution_count": null,
   "metadata": {
    "_cell_guid": "9e3d296f-84bc-4cc4-a763-df4d9cf8c1a2",
    "_uuid": "9edd5f195b9bdf12ba4009e48dcd559e30cb11c4",
    "collapsed": true
   },
   "outputs": [],
   "source": [
    "top_reviewed = yelp_review[yelp_review[\"stars\"]>3]\n",
    "top_reviews_dict ={}\n",
    "\n",
    "for business_id in top_reviewed[\"business_id\"].values:\n",
    "    try :\n",
    "        top_reviews_dict[business_id] =top_reviews_dict[business_id]+1\n",
    "    except:\n",
    "        top_reviews_dict[business_id]=1\n",
    "        \n",
    "topbusiness = pd.DataFrame.from_dict(data= top_reviews_dict,orient=\"index\")\n",
    "\n",
    "topbusiness.reset_index(inplace=True)\n",
    "topbusiness.columns = ['business_id', 'rated']\n",
    "del(top_reviews_dict)\n",
    "del(top_reviewed)"
   ]
  },
  {
   "cell_type": "code",
   "execution_count": null,
   "metadata": {
    "_cell_guid": "c52219d9-df39-45a4-bebc-ad9ed2d38f91",
    "_uuid": "61d37787ee20c84c001ae247fc35564c602a32d6",
    "collapsed": true
   },
   "outputs": [],
   "source": [
    "top_count= 20\n",
    "right=pd.DataFrame(yelp_business[['business_id',\"name\",\"categories\"]].values,\n",
    "                    columns=['business_id',\"Business name\",\"categories\"])\n",
    "\n",
    "top_business_data = pd.merge(topbusiness,right=right, how=\"inner\",on='business_id')\n",
    "top_business_data.sort_values(\"rated\")[::-1][:top_count].plot(x=\"Business name\",y=\"rated\", \n",
    "                                                   kind=\"bar\",figsize=(14,6),\n",
    "                                                   title='Positive reviews').set_ylabel(\"Total ratings\")\n",
    "\n",
    "del(topbusiness)\n",
    "del(right)"
   ]
  },
  {
   "cell_type": "markdown",
   "metadata": {
    "_cell_guid": "e96151fa-649b-4b0e-9b48-2e39badc8b9a",
    "_uuid": "a2f034b430777ca97df9925537e4affcc5c0289f"
   },
   "source": [
    "# What are the locations of top reviewed businesses\n",
    "\n",
    "Generally customers are eager to know what are the locations of best business outlets etc. In this section we will find locations of top best reviwed business locations and show in map."
   ]
  },
  {
   "cell_type": "code",
   "execution_count": null,
   "metadata": {
    "_cell_guid": "77a43cf1-fd53-4a89-ba45-fdfb13aabc5a",
    "_uuid": "e89828c72f2792f2d30ba84bf373dae658b53705",
    "collapsed": true
   },
   "outputs": [],
   "source": [
    "num_business = 300\n",
    "business_ids = top_business_data.sort_values(\"rated\")[::-1][:num_business].business_id.values\n",
    "#len(business_ids)\n",
    "useful_b = yelp_business.loc[yelp_business['business_id'].isin(business_ids)]\n",
    "\n",
    "#len(useful_b)"
   ]
  },
  {
   "cell_type": "code",
   "execution_count": null,
   "metadata": {
    "_cell_guid": "bb15be7d-9463-49bc-8d5e-02b733e16889",
    "_uuid": "e24411b57efa443def3e58af8d0af761e21f7f7c",
    "collapsed": true
   },
   "outputs": [],
   "source": [
    "fig = plt.figure(figsize=(14, 8), edgecolor='w')\n",
    "\n",
    "m = Basemap(projection='cyl',llcrnrlon= -180, urcrnrlon = 180,\n",
    "            llcrnrlat = -90, urcrnrlat= 90,resolution='c',\n",
    "           lat_ts = True)\n",
    "m.drawcoastlines()\n",
    "m.fillcontinents(color='#bbdaa4',lake_color='#FFFFFF')\n",
    "m.drawcountries()\n",
    "m.drawmapboundary(fill_color='#FFFFFF')\n",
    "\n",
    "mloc = m(useful_b['latitude'].tolist(),useful_b['longitude'].tolist())\n",
    "m.scatter(mloc[1],mloc[0],color ='red',lw=3,alpha=0.3,zorder=5)"
   ]
  },
  {
   "cell_type": "markdown",
   "metadata": {
    "_cell_guid": "8696d4a7-a1aa-48e8-9b7e-222d66df16e6",
    "_uuid": "bb87c0676ad45f7cc332506978a0f8a734fa1124"
   },
   "source": [
    "# How businesses are getting reviewed over time\n",
    "\n",
    "\n",
    "Some businesses try to maintain their overall quality standards and make their customers happy. Lets see which businesses are maintaining their quality standards  based on positive reviews."
   ]
  },
  {
   "cell_type": "code",
   "execution_count": null,
   "metadata": {
    "_cell_guid": "ce07fb1b-87b9-4b9f-b771-ff6aca71d2fa",
    "_uuid": "37cc0462f7c7a4cfddcd9854a4efa13e0df3242d",
    "collapsed": true
   },
   "outputs": [],
   "source": [
    "num_business = 3\n",
    "business_ids = top_business_data.sort_values(\"rated\")[::-1][:num_business].business_id.values\n",
    "business_names = top_business_data.sort_values(\"rated\")[::-1][:num_business][\"Business name\"].values\n",
    "for i, business_id in enumerate(business_ids):\n",
    "    useful_b = yelp_review.loc[yelp_review['business_id'] == business_id]\n",
    "    useful_b = useful_b.groupby(['year']).size().reset_index(name='counts')\n",
    "    #print(useful_b.head())\n",
    "    series = pd.Series(useful_b[\"counts\"].values, index=useful_b[\"year\"].values, name='Review trend')\n",
    "    axes = series.plot(kind=\"bar\",figsize=(10, 7))\n",
    "    plt.xlabel('Year', axes=axes)\n",
    "    plt.ylabel('Total positive reviews', axes=axes)\n",
    "    plt.title('Review trend of {}'.format(business_names[i]), axes=axes)\n",
    "    plt.show()\n"
   ]
  },
  {
   "cell_type": "markdown",
   "metadata": {
    "_cell_guid": "2f6f23c6-eb56-4e80-9e86-24dab5df88a1",
    "_uuid": "652c31251ff9a160709742b4a57726b188cdf2a4"
   },
   "source": [
    "Based on above graphs one can see that positive reviews of \"Earl of Sandwich\" is dropping this can mean either people are not visiting \"Earl of Sandwich\" or quality standards of this business is definitely dropping over time.\n",
    "\n",
    "Anyone can explore more information by increasing value of `num_business`."
   ]
  },
  {
   "cell_type": "markdown",
   "metadata": {
    "_cell_guid": "2ec35151-d283-431f-9de2-01aa7a8626ce",
    "_uuid": "62b0f17e31051c1bee5c9f59e2fbbecc6b7c6952"
   },
   "source": [
    "# Most recent Trending businesses"
   ]
  },
  {
   "cell_type": "code",
   "execution_count": null,
   "metadata": {
    "_cell_guid": "c569ca25-16cd-44d3-8863-0aa4ea5d1b06",
    "_uuid": "797a1c559a2b4488a054759f48239333edba0414",
    "collapsed": true
   },
   "outputs": [],
   "source": [
    "top_business = 3\n",
    "temp = yelp_review[[\"business_id\",'year',\"stars\"]]\n",
    "five_star_reviews = temp[temp[\"stars\"]>4]\n",
    "trending_business_reviews = five_star_reviews.groupby([\"business_id\",'year']).size().reset_index(name='counts')\n",
    "\n",
    "trending = trending_business_reviews.sort_values(['year','counts'])[::-1][:top_business].business_id.values\n",
    "for  business_id in trending:\n",
    "    record = trending_business_reviews.loc[trending_business_reviews['business_id'] == business_id]\n",
    "    business_name = yelp_business.loc[yelp_business['business_id'] == business_id].name.values[0]\n",
    "    series = pd.Series(record[\"counts\"].values, index=record.year.values, name='Trending business')\n",
    "    axes = series.plot(kind=\"bar\",figsize=(10, 7))\n",
    "    plt.xlabel('Year', axes=axes)\n",
    "    plt.ylabel('Total positive reviews', axes=axes)\n",
    "    plt.title('Review trend of {}'.format(business_name), axes=axes)\n",
    "    plt.show()\n",
    "    #len(trending_business_reviews)"
   ]
  },
  {
   "cell_type": "markdown",
   "metadata": {
    "_cell_guid": "af88bb85-2c2e-49d9-ab73-0a25e7f2ac49",
    "_uuid": "f86f5124d33a0929471fd2948243c1f7b3a880bf"
   },
   "source": [
    "From above graphs one can easliy see that \"Yardbird southern table & bar\" is new commer in business and has got most reviews in year 2017. And \"Mon Ami Gabi\" is able to maintain it reviews which indicate persistant quality standards.\n",
    "\n",
    "Anyone can explore more insights by changing value of `top_business`."
   ]
  },
  {
   "cell_type": "markdown",
   "metadata": {
    "_cell_guid": "51458036-bbf0-469b-8038-63ab2eb860a1",
    "_uuid": "13eb472a5f260ef716216e34326989351af9c49e"
   },
   "source": [
    "# Categories of top reviewed businesses\n",
    "\n",
    "This section can answer the question \"What categories of businesses are at succeeding?\" Good reviews means customers are happy to visit and take time to write reviews."
   ]
  },
  {
   "cell_type": "code",
   "execution_count": null,
   "metadata": {
    "_cell_guid": "1ce187c9-9c86-4d78-8269-86e379a32169",
    "_uuid": "f3e935a6c5f1a9c00e731f649c44c1b0126d8698",
    "collapsed": true
   },
   "outputs": [],
   "source": [
    "num_cat =10 # to show top 10 catrgories\n",
    "top_business = 30 # choose categories of top 30 businesses\n",
    "cat_data = top_business_data.sort_values(\"rated\")[::-1][:top_business]\n",
    "#cat_data.categories\n",
    "Categories={}\n",
    "for cat in cat_data.categories.values:\n",
    "    all_categories= cat.split(\";\")\n",
    "    for x in all_categories:\n",
    "        try :\n",
    "            Categories[x] =Categories[x]+1\n",
    "        except:\n",
    "            Categories[x]=1\n",
    "top_categories = pd.DataFrame.from_dict(data= Categories,orient=\"index\")\n",
    "top_categories.reset_index(inplace=True)\n",
    "top_categories.columns = ['category', 'occurance']\n",
    "\n",
    "x_val=top_categories.sort_values(\"occurance\")[::-1][:num_cat].occurance.values\n",
    "labels=top_categories.sort_values(\"occurance\")[::-1][:num_cat].category.values\n",
    "series = pd.Series(x_val, index=labels, name='Top business types')\n",
    "series.plot.pie(figsize=(10, 10),startangle=90)\n",
    "\n"
   ]
  },
  {
   "cell_type": "markdown",
   "metadata": {
    "_cell_guid": "14b26e91-5488-4900-855e-0fe8037f497d",
    "_uuid": "ef89d3cc1b85d6ad5d04e1aff2e4ffdf5e52c666"
   },
   "source": [
    "Anyone interested in getting more categories can change  value of `num_cat` and `top_business`."
   ]
  },
  {
   "cell_type": "markdown",
   "metadata": {
    "_cell_guid": "639b8720-29c3-449b-8a90-a577e8fe56f8",
    "_uuid": "0150614ed2d930f80722fb1258534784cdfeac34"
   },
   "source": [
    "# Categories of trending businesses"
   ]
  },
  {
   "cell_type": "code",
   "execution_count": null,
   "metadata": {
    "_cell_guid": "136b6e1b-89d3-4f17-b79f-72bf2e990a25",
    "_uuid": "516ce6e162ad705e22042a2f89b8ecf6d7ee93de",
    "collapsed": true
   },
   "outputs": [],
   "source": [
    "num_cat =10 # to show top 10 catrgories\n",
    "top_business = 40 # choose categories of top 30 businesses\n",
    "business_ids = trending_business_reviews.sort_values(['year','counts'])[::-1][:top_business].business_id.values\n",
    "cat_data = top_business_data.loc[top_business_data['business_id'].isin(business_ids)]\n",
    "#cat_data.categories\n",
    "Categories={}\n",
    "for cat in cat_data.categories.values:\n",
    "    all_categories= cat.split(\";\")\n",
    "    for x in all_categories:\n",
    "        try :\n",
    "            Categories[x] =Categories[x]+1\n",
    "        except:\n",
    "            Categories[x]=1\n",
    "top_categories = pd.DataFrame.from_dict(data= Categories,orient=\"index\")\n",
    "top_categories.reset_index(inplace=True)\n",
    "top_categories.columns = ['category', 'occurance']\n",
    "\n",
    "x_val=top_categories.sort_values(\"occurance\")[::-1][:num_cat].occurance.values\n",
    "labels=top_categories.sort_values(\"occurance\")[::-1][:num_cat].category.values\n",
    "series = pd.Series(x_val, index=labels, name='Top business types')\n",
    "series.plot.pie(figsize=(10, 10),startangle=90)\n"
   ]
  },
  {
   "cell_type": "markdown",
   "metadata": {
    "_cell_guid": "c2a5ef6b-808d-42e4-b1be-283152d0e175",
    "_uuid": "81ba989ddf632fa822bbdd074241a0aec20bdecc"
   },
   "source": [
    "By comparing above two pie chart one can say \"Art and Entertaintment\" is not a trending category of business to invest on. \"Sandwitches\" and \"Mexican\" are becoming more trending categories.\n",
    "\n",
    "Anyone interested in getting more insights can change  value of `num_cat` and `top_business` in above code."
   ]
  },
  {
   "cell_type": "markdown",
   "metadata": {
    "_cell_guid": "5cb55e30-ad46-434b-bcd5-577ee9971185",
    "_uuid": "130af3899711172cb1535b2ee9e6284d32b57d4e"
   },
   "source": [
    "# Negatively reviewed businesses"
   ]
  },
  {
   "cell_type": "code",
   "execution_count": null,
   "metadata": {
    "_cell_guid": "ac41b0b5-4f9f-4fb2-b039-ce0a55220b74",
    "_uuid": "8eed826926867f0c97b1e5aa4bf0c7f79b6f7845",
    "collapsed": true
   },
   "outputs": [],
   "source": [
    "bottom_reviewed = yelp_review[yelp_review[\"stars\"]<2]\n",
    "bottom_reviews_dict ={} \n",
    "\n",
    "for business_id in bottom_reviewed[\"business_id\"].values:\n",
    "    try :\n",
    "        bottom_reviews_dict[business_id] =bottom_reviews_dict[business_id]+1\n",
    "    except:\n",
    "        bottom_reviews_dict[business_id]=1\n",
    "        \n",
    "bottombusiness = pd.DataFrame.from_dict(data= bottom_reviews_dict,orient=\"index\")\n",
    "\n",
    "bottombusiness.reset_index(inplace=True)\n",
    "#bottombusiness.head()\n",
    "bottombusiness.columns = ['business_id', 'rated']"
   ]
  },
  {
   "cell_type": "code",
   "execution_count": null,
   "metadata": {
    "_cell_guid": "4f335256-7e36-417e-8ffc-6fd78139e6c0",
    "_uuid": "334138b32aeb8c2241bc11189075ca66d6ece351",
    "collapsed": true
   },
   "outputs": [],
   "source": [
    "top_count= 20\n",
    "right=pd.DataFrame(yelp_business[['business_id',\"name\",\"categories\"]].values,\n",
    "                    columns=['business_id',\"Business name\",\"categories\"])\n",
    "\n",
    "bottom_business_data = pd.merge(bottombusiness,right=right, how=\"inner\",on='business_id')\n",
    "bottom_business_data.sort_values(\"rated\")[::-1][:top_count].plot(x=\"Business name\",y=\"rated\", \n",
    "                                                   kind=\"bar\",figsize=(14,6),\n",
    "                                                   title='Negative reviews').set_ylabel(\"Total 1 star ratings\")\n",
    "\n",
    "del(bottom_reviewed)\n",
    "del(bottom_reviews_dict)\n",
    "del(bottombusiness)\n",
    "del(right)\n"
   ]
  },
  {
   "cell_type": "markdown",
   "metadata": {
    "_cell_guid": "b96b16c6-ccdd-40c0-862c-95ed73860140",
    "_uuid": "4971e5d7a5615d3f73de345ed32fad4e81384d4c"
   },
   "source": [
    "Above plot shows that most of the \"Casino\" are negatively reviewed.\n",
    "\n",
    "Anyone interested in getting more categories can change  value of `top_count`."
   ]
  },
  {
   "cell_type": "markdown",
   "metadata": {
    "_cell_guid": "271b086b-d242-476b-9920-4d651ab9589d",
    "_uuid": "a7cdb4cbe70ad63cb2cbde03b69aef32366653ff"
   },
   "source": [
    "# Business categories which needs improvement\n",
    "\n",
    "The categories of businesses which which are getting negative reviews definitely need to improve their services. Or this insight can be used by their competitors to start new business nearby."
   ]
  },
  {
   "cell_type": "code",
   "execution_count": null,
   "metadata": {
    "_cell_guid": "b413ccb0-1061-442b-a657-bd5751c5acb5",
    "_uuid": "2eafd8800a3ec7b4c40e6eede10ea7cad6773fd1",
    "collapsed": true
   },
   "outputs": [],
   "source": [
    "num_cat =10 # to show top 10 catrgories\n",
    "bottom_business = 30 # choose categories of top 30 businesses\n",
    "cat_data = bottom_business_data.sort_values(\"rated\")[::-1][:bottom_business]\n",
    "\n",
    "Categories={}\n",
    "for cat in cat_data.categories.values:\n",
    "    all_categories= cat.split(\";\")\n",
    "    for x in all_categories:\n",
    "        try :\n",
    "            Categories[x] =Categories[x]+1\n",
    "        except:\n",
    "            Categories[x]=1\n",
    "bottom_categories = pd.DataFrame.from_dict(data= Categories,orient=\"index\")\n",
    "bottom_categories.reset_index(inplace=True)\n",
    "bottom_categories.columns = ['category', 'occurance']\n",
    "\n",
    "x_val=bottom_categories.sort_values(\"occurance\")[::-1][:num_cat].occurance.values\n",
    "labels=bottom_categories.sort_values(\"occurance\")[::-1][:num_cat].category.values\n",
    "series = pd.Series(x_val, index=labels, name='Categories')\n",
    "series.plot.pie(figsize=(10, 10),startangle=90)\n",
    "\n"
   ]
  },
  {
   "cell_type": "markdown",
   "metadata": {
    "_cell_guid": "302aa276-2b6e-40ab-b2d3-12d84cb38f2b",
    "_uuid": "884899ca43f14c326d6d32740efd5943ef7f7aa6"
   },
   "source": [
    "\n",
    "Anyone interested in getting more categories can change  value of `num_cat` and `bottom_business`."
   ]
  },
  {
   "cell_type": "markdown",
   "metadata": {
    "_cell_guid": "b0fd1c36-cfb3-4035-8b90-764b973459a4",
    "_uuid": "4838e59e3535675197f24d8a797b02e4cbb28d41"
   },
   "source": [
    "# Lets find most frequent words in Negative reviews\n",
    "\n",
    "\n",
    "Basically, we will find most frequent words in reviews to get an overview of why users gave low ratings. These words could be related to those business attributes or services about which users are most unhappy."
   ]
  },
  {
   "cell_type": "code",
   "execution_count": null,
   "metadata": {
    "_cell_guid": "5e8fa10e-3deb-4348-971c-09fd60bb14f4",
    "_uuid": "64343fc191490463de151b7ad1f7f62394d2765b",
    "collapsed": true
   },
   "outputs": [],
   "source": [
    "# these are helper functions \n",
    "# directly copied from https://gist.github.com/benhoyt/dfafeab26d7c02a52ed17b6229f0cb52\n",
    "\n",
    "def tokenize(s):\n",
    "    \"\"\"Convert string to lowercase and split into words (ignoring\n",
    "    punctuation), returning list of words.\n",
    "    \"\"\"\n",
    "    word_list = re.findall(r'\\w+', s.lower())\n",
    "    filtered_words = [word for word in word_list if word not in stopwords.words('english')]\n",
    "    return filtered_words\n",
    "\n",
    "\n",
    "def count_ngrams(lines, min_length=2, max_length=4):\n",
    "    \"\"\"Iterate through given lines iterator (file object or list of\n",
    "    lines) and return n-gram frequencies. The return value is a dict\n",
    "    mapping the length of the n-gram to a collections.Counter\n",
    "    object of n-gram tuple and number of times that n-gram occurred.\n",
    "    Returned dict includes n-grams of length min_length to max_length.\n",
    "    \"\"\"\n",
    "    lengths = range(min_length, max_length + 1)\n",
    "    ngrams = {length: collections.Counter() for length in lengths}\n",
    "    queue = collections.deque(maxlen=max_length)\n",
    "\n",
    "    # Helper function to add n-grams at start of current queue to dict\n",
    "    def add_queue():\n",
    "        current = tuple(queue)\n",
    "        for length in lengths:\n",
    "            if len(current) >= length:\n",
    "                ngrams[length][current[:length]] += 1\n",
    "\n",
    "    # Loop through all lines and words and add n-grams to dict\n",
    "    for line in lines:\n",
    "        for word in tokenize(line):\n",
    "            queue.append(word)\n",
    "            if len(queue) >= max_length:\n",
    "                add_queue()\n",
    "\n",
    "    # Make sure we get the n-grams at the tail end of the queue\n",
    "    while len(queue) > min_length:\n",
    "        queue.popleft()\n",
    "        add_queue()\n",
    "\n",
    "    return ngrams\n",
    "\n",
    "def print_most_frequent(ngrams, num=10):\n",
    "    \"\"\"Print num most common n-grams of each length in n-grams dict.\"\"\"\n",
    "    for n in sorted(ngrams):\n",
    "        print('----- {} most common {}-word phrase -----'.format(num, n))\n",
    "        for gram, count in ngrams[n].most_common(num):\n",
    "            print('{0}: {1}'.format(' '.join(gram), count))\n",
    "        print('')\n",
    "\n",
    "def print_word_cloud(ngrams, num=5):\n",
    "    \"\"\"Print word cloud image plot \"\"\"\n",
    "    words = []\n",
    "    for n in sorted(ngrams):\n",
    "        for gram, count in ngrams[n].most_common(num):\n",
    "            s = ' '.join(gram)\n",
    "            words.append(s)\n",
    "            \n",
    "    cloud = WordCloud(width=1440, height= 1080,max_words= 200).generate(' '.join(words))\n",
    "    plt.figure(figsize=(20, 15))\n",
    "    plt.imshow(cloud)\n",
    "    plt.axis('off');\n",
    "    plt.show()\n",
    "    print('')\n",
    "    \n",
    "            "
   ]
  },
  {
   "cell_type": "code",
   "execution_count": null,
   "metadata": {
    "_cell_guid": "20dd76c6-aec0-4c65-8a93-44e2361db665",
    "_uuid": "38a1522dcb98e3be21836236dac70e9f9f6cb3bb",
    "collapsed": true,
    "scrolled": false
   },
   "outputs": [],
   "source": [
    "num_business_analysis = 1 # basically this will tell how much computing and diverse our analysis will be\n",
    "business_ids=bottom_business_data.sort_values(\"rated\")[::-1][:num_business_analysis].business_id.values\n",
    "business_names = bottom_business_data.sort_values(\"rated\")[::-1][:num_business_analysis][\"Business name\"].values\n",
    "# get all the reviews and analyse them\n",
    "#business_names\n",
    "for i, business_id in enumerate(business_ids):\n",
    "    # now extract reviews from reviews data\n",
    "    print(\"Analysing business: \",business_names[i])\n",
    "    reviews = yelp_review.loc[yelp_review['business_id'] == business_id].text.values\n",
    "    most_used_text = count_ngrams(reviews,max_length=3)\n",
    "    print_most_frequent(most_used_text, num=10)\n",
    "    print_word_cloud(most_used_text, 10)\n",
    "    #print (\"total reviews \",len(reviews))\n",
    "    "
   ]
  },
  {
   "cell_type": "markdown",
   "metadata": {
    "_cell_guid": "8e9e9a45-4bf6-4eae-9164-7d8b195ac59d",
    "_uuid": "84dc79a14234b76423a641529c341786f02aa3fc"
   },
   "source": [
    "From above image one can easily understand there are some problems related to front desk, room service, customer service tv screen. This plot doesnt make a lot of sense but still, it gives an overview of most used words in reviews about which users are unhappy.\n",
    "\n",
    "From business point of view this insight is very useful and business owners can easily use this information to improve their services.\n",
    "\n",
    "Anyone interested in more insights can change `num_business_analysis`."
   ]
  },
  {
   "cell_type": "markdown",
   "metadata": {
    "_cell_guid": "2e488d19-e52d-4437-ac00-77d8fb88fac4",
    "_uuid": "f08b30b1ef5d0fdd6efc1708a4335f5d73890dd7",
    "collapsed": true
   },
   "source": [
    "# Most frequent tips\n",
    "\n",
    "\n",
    "Using both reviews and tips data, business can work on improving the specific areas of their business. Lets see if tips are really useful for insights."
   ]
  },
  {
   "cell_type": "code",
   "execution_count": null,
   "metadata": {
    "_cell_guid": "f92030b1-c85e-48c8-9b26-df703d5e5f98",
    "_uuid": "376ab3a7237f6fcc4e417caa463c43e1a16a81a9",
    "collapsed": true,
    "scrolled": false
   },
   "outputs": [],
   "source": [
    "num_business_analysis = 2 # basically this will tell how much computing and diverse our analysis will be\n",
    "business_ids=bottom_business_data.sort_values(\"rated\")[::-1][:num_business_analysis].business_id.values\n",
    "business_names = bottom_business_data.sort_values(\"rated\")[::-1][:num_business_analysis][\"Business name\"].values\n",
    "# get all the reviews and analyse them\n",
    "#business_names\n",
    "for i, business_id in enumerate(business_ids):\n",
    "    # now extract reviews from reviews data\n",
    "    print(\"Analysing business: \",business_names[i])\n",
    "    reviews = yelp_tips.loc[yelp_tips['business_id'] == business_id].text.values\n",
    "    most_used_text = count_ngrams(reviews,max_length=4)\n",
    "    print_most_frequent(most_used_text, num=10)\n",
    "    print_word_cloud(most_used_text, 10)\n",
    "    #print (\"total reviews \",len(reviews))"
   ]
  },
  {
   "cell_type": "markdown",
   "metadata": {
    "_cell_guid": "50d44a19-3336-415e-9bd3-d0132e3940fc",
    "_uuid": "be343baaecf283e22705cacf6d770600ea35311d"
   },
   "source": [
    "Tips seem very random and unuseful for business as these contains basic greetings and more general phrases like \"paying bills\" \"busy night\"."
   ]
  },
  {
   "cell_type": "markdown",
   "metadata": {
    "_cell_guid": "acb558b3-76a3-4152-b675-6b7f9c47dbb5",
    "_uuid": "5ef7e238862b497eef2784c337da1ab7b073865a",
    "collapsed": true
   },
   "source": [
    "# Lets find relationship between users's friends and review patterns"
   ]
  },
  {
   "cell_type": "code",
   "execution_count": null,
   "metadata": {
    "_cell_guid": "1dc93f06-b7a0-40f8-9867-c9a247d782f0",
    "_uuid": "648deb25a1eed5b4ee52b498f57797b9829e9127",
    "collapsed": true
   },
   "outputs": [],
   "source": [
    "top_users = 15\n",
    "user_most_reviews = yelp_review.groupby(['user_id']).size().reset_index(name='counts')\n",
    "top_users_ids = user_most_reviews.sort_values(['counts'])[::-1][:top_users].user_id.values"
   ]
  },
  {
   "cell_type": "code",
   "execution_count": null,
   "metadata": {
    "_cell_guid": "aab5efe1-afda-4e75-9dd6-2a4ee1d63a7d",
    "_uuid": "dd56caa4b97d97468c4e8aef4643137ee0bd9d94",
    "collapsed": true
   },
   "outputs": [],
   "source": [
    "user_frnds = {}\n",
    "for  users_id in top_users_ids:\n",
    "    \n",
    "    record = yelp_users.loc[yelp_users['user_id'] == users_id]\n",
    "    user_frnds[users_id] = {}\n",
    "    user_frnds[users_id][\"name\"]= record.name.values[0]\n",
    "    user_frnds[users_id][\"friends\"]= record.friends.values[0]\n",
    "    if record.friends is not \"None\":\n",
    "        user_frnds[users_id][\"friends_count\"]= len(record.friends.values[0].split(\",\"))\n",
    "    else:\n",
    "        user_frnds[users_id][\"friends_count\"]=0\n",
    "    user_frnds[users_id][\"review_count\"]=record.review_count.values[0]\n",
    "    user_frnds[users_id][\"fans\"]=record.fans.values[0]"
   ]
  },
  {
   "cell_type": "code",
   "execution_count": null,
   "metadata": {
    "_cell_guid": "17c57b19-a897-4095-ab5c-c61109e452f7",
    "_uuid": "3d5982acb7e52a4241bbc311a3ad161f4068f198",
    "collapsed": true
   },
   "outputs": [],
   "source": [
    " user_friend_df = pd.DataFrame.from_dict(data= user_frnds,orient=\"index\")"
   ]
  },
  {
   "cell_type": "code",
   "execution_count": null,
   "metadata": {
    "_cell_guid": "1c3c7090-1e37-4a0b-8ba4-f1356516bc61",
    "_uuid": "77504df096675d1350595d1d936c3747ad6bd904",
    "collapsed": true
   },
   "outputs": [],
   "source": [
    "user_friend_df.head()"
   ]
  },
  {
   "cell_type": "code",
   "execution_count": null,
   "metadata": {
    "_cell_guid": "04099367-2131-4b6b-9753-d25947bec70e",
    "_uuid": "f9b12a1b0630a341ebab7dd99fb2cb75eb55d40f",
    "collapsed": true
   },
   "outputs": [],
   "source": [
    "axes = user_friend_df.plot(x=\"name\", y=[\"review_count\", \"friends_count\", \"fans\"],\n",
    "                           kind=\"bar\",figsize=(12, 7))\n",
    "plt.xlabel('Name', axes=axes)\n",
    "plt.ylabel('Count', axes=axes)\n",
    "plt.title('Top User Review trend'.format(business_name), axes=axes)\n",
    "plt.show()"
   ]
  },
  {
   "cell_type": "markdown",
   "metadata": {
    "_cell_guid": "52947027-8497-48ef-b932-5187c1cb7816",
    "_uuid": "65cd23a709d43e7c17f30d63f5456237b3bea941"
   },
   "source": [
    "From above graph we can see there is no defined relashionship between user's fans, friends and review count. User reviewing for a business totally depends on user's character and/or satisfaction with business services."
   ]
  },
  {
   "cell_type": "markdown",
   "metadata": {
    "_cell_guid": "712c7ebb-f909-4e16-98bc-c290ad4c01a3",
    "_uuid": "8b1da68d19f452a85bd1421e5df40759ea8c8bc5"
   },
   "source": [
    "# Does user's friends infulence business review?\n",
    "\n",
    "Lets find trending business and its top users. Then we will cross check with yelp user database if a particular user's friend also has given rating to that business or not."
   ]
  },
  {
   "cell_type": "code",
   "execution_count": null,
   "metadata": {
    "_cell_guid": "8178b0bf-cd41-4630-9153-d17c3e534912",
    "_uuid": "12a02d1130a723c8f6bbc420321617b47e55f23c",
    "collapsed": true
   },
   "outputs": [],
   "source": [
    "business_rank = 4 # 0 to 9\n",
    "temp = yelp_review[[\"business_id\",'year',\"stars\"]]\n",
    "five_star_reviews = temp[temp[\"stars\"]>4]\n",
    "trending_business_reviews = five_star_reviews.groupby([\"business_id\",'year']).size().reset_index(name='counts')\n",
    "\n",
    "business_id = trending_business_reviews.sort_values(['year','counts'])[::-1][:10].business_id.values[business_rank]\n",
    "business_name = yelp_business.loc[yelp_business['business_id'] == business_id].name.values[0]"
   ]
  },
  {
   "cell_type": "code",
   "execution_count": null,
   "metadata": {
    "_cell_guid": "a9e5cc95-d5f1-4392-bbeb-13f74efe5067",
    "_uuid": "7b62d903f716cf579c2588d63748b658bd26903d",
    "collapsed": true
   },
   "outputs": [],
   "source": [
    "user_reviws = yelp_review.loc[yelp_review['business_id']==business_id]\n",
    "topuser_reviws = user_reviws.groupby(['user_id']).size().reset_index(name='counts')\n",
    "print(\"Total users who gave ratings to {} are {}\".format(business_name,len(topuser_reviws)))"
   ]
  },
  {
   "cell_type": "code",
   "execution_count": null,
   "metadata": {
    "_cell_guid": "da6669cf-f341-4cc9-92de-6b7f7ff7ef72",
    "_uuid": "10716861d670d691fd22e2a2cd7129e2bc19959f",
    "collapsed": true
   },
   "outputs": [],
   "source": [
    "top_users = 50 #len(topuser_reviws)// 10\n",
    "topuser_reviws = topuser_reviws.sort_values(['counts'])[::-1][:top_users]"
   ]
  },
  {
   "cell_type": "code",
   "execution_count": null,
   "metadata": {
    "_cell_guid": "5811293b-8c9b-4199-ae88-69cd0682d6a3",
    "_uuid": "84d37579a042816004c4d0b181f377725cc58748",
    "collapsed": true
   },
   "outputs": [],
   "source": [
    "%%time\n",
    "\n",
    "users_ids = topuser_reviws.user_id.values\n",
    "users_ids = pd.merge(topuser_reviws,right=yelp_users, how=\"inner\",on='user_id')\n",
    "users_ids =users_ids [[\"name\",\"user_id\", \"friends\"]]\n"
   ]
  },
  {
   "cell_type": "code",
   "execution_count": null,
   "metadata": {
    "_cell_guid": "6bbe34db-96fa-4c1d-8033-deb5a6bd888f",
    "_uuid": "aad09fbac843bc17676b6a52fb6ece92b928b1e5",
    "collapsed": true
   },
   "outputs": [],
   "source": [
    "%%time\n",
    "def calc_frnd_review(frnds, business_id, yelp_review):\n",
    "        frnds = frnds.split(',')\n",
    "        # count reviews\n",
    "        #frnds = yelp_users.loc[(yelp_users['user_id'].isin(frnds)) & (yelp_users[\"review_count\"]>0 )].user_id.values\n",
    "        friend_review = yelp_review.loc[(yelp_review['business_id']==business_id) &\n",
    "                                        (yelp_review['user_id'].isin(frnds))\n",
    "                                       ][[\"stars\",\"user_id\"]]\n",
    "        friend_review_cnt = len(friend_review.user_id.values)\n",
    "        if(friend_review_cnt>0):\n",
    "            total_stars = friend_review.stars.sum()\n",
    "        else:\n",
    "            total_stars = 0\n",
    "        return  friend_review_cnt,total_stars\n",
    "\n",
    "users_ids[[\"frnd_count\",\"total_stars\"]]= users_ids[\"friends\"].apply(lambda frnds: pd.Series(calc_frnd_review(frnds, business_id, yelp_review), index=['frnd_count','total_stars']))"
   ]
  },
  {
   "cell_type": "code",
   "execution_count": null,
   "metadata": {
    "_cell_guid": "5f407d42-b230-45cb-a2f2-902610c9a689",
    "_uuid": "e88e0385caf43df90b61851177e0bd75f9874504",
    "collapsed": true,
    "scrolled": true
   },
   "outputs": [],
   "source": [
    "users_ids[users_ids[\"frnd_count\"]>0]"
   ]
  },
  {
   "cell_type": "markdown",
   "metadata": {
    "_cell_guid": "6beac639-a9c2-47a6-8828-8d9014519368",
    "_uuid": "35d7ea08e5a1e4b6ff289a9679445cc0c37dcb75"
   },
   "source": [
    "So we can see here, not much users could have been somehow influenced by their friends's top ratings to a business, because there is only one user whose friend also rated 5 star for \"Mr Mamas\" when \"Nelson\" gave 5 rating to it (Here we have taken only 50 users out of 1608 users into account because this task is very resource heavy)."
   ]
  },
  {
   "cell_type": "code",
   "execution_count": null,
   "metadata": {
    "_cell_guid": "4fb997c0-f632-41be-9658-f19bea662015",
    "_uuid": "2a70f0755d7d8b129eec28e68b8af421f1c0db0e",
    "collapsed": true
   },
   "outputs": [],
   "source": []
  }
 ],
 "metadata": {
  "kernelspec": {
   "display_name": "Python 2",
   "language": "python",
   "name": "python2"
  },
  "language_info": {
   "codemirror_mode": {
    "name": "ipython",
    "version": 2
   },
   "file_extension": ".py",
   "mimetype": "text/x-python",
   "name": "python",
   "nbconvert_exporter": "python",
   "pygments_lexer": "ipython2",
   "version": "2.7.13"
  }
 },
 "nbformat": 4,
 "nbformat_minor": 1
}
